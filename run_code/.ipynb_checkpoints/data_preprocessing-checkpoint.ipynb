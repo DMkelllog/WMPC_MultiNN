{
 "cells": [
  {
   "cell_type": "code",
   "execution_count": 1,
   "metadata": {
    "ExecuteTime": {
     "end_time": "2021-03-22T04:42:43.451812Z",
     "start_time": "2021-03-22T04:42:42.736721Z"
    }
   },
   "outputs": [],
   "source": [
    "import numpy as np\n",
    "import pandas as pd\n",
    "import pickle\n",
    "\n",
    "from extract_manual_features import extract_features"
   ]
  },
  {
   "cell_type": "code",
   "execution_count": null,
   "metadata": {},
   "outputs": [],
   "source": [
    "if os.path.isfile('data/X_MFE.pickle'):\n",
    "    print('wafer map handcrafted features file exists')\n",
    "else:\n",
    "    print('wafer map handcrafted features file does not exist')\n",
    "    print('dataframe preprocessing...')\n",
    "    # Load wafer maps with labels\n",
    "    df = df.drop(['waferIndex', 'trianTestLabel', 'lotName'], axis=1)\n",
    "    df['failureNum']=df.failureType\n",
    "    mapping_type={'Center':0,'Donut':1,'Edge-Loc':2,'Edge-Ring':3,'Loc':4,'Random':5,'Scratch':6,'Near-full':7,'none':8}\n",
    "    df=df.replace({'failureNum':mapping_type})\n",
    "    df_withlabel = df[(df['failureNum']>=0)]\n",
    "    df_withlabel = df_withlabel.drop(df_withlabel[df_withlabel['dieSize']<100].index.tolist()).reset_index()\n",
    "    \n",
    "    y = np.array(df_withlabel['failureNum']).astype(np.int)\n",
    "    X_mfe = extract_features(df_withlabel)\n",
    "    \n",
    "    # Save preprocessed data as pickle files\n",
    "    with open('../data/X_'+str(DIM)+'.pickle', 'wb') as f:\n",
    "        pickle.dump(X_mfe, f, protocol=4)\n",
    "    with open('../data/y.pickle', 'wb') as f:\n",
    "        pickle.dump(y, f, protocol=4)"
   ]
  },
  {
   "cell_type": "code",
   "execution_count": null,
   "metadata": {},
   "outputs": [],
   "source": []
  },
  {
   "cell_type": "code",
   "execution_count": 3,
   "metadata": {
    "ExecuteTime": {
     "end_time": "2021-03-22T01:45:20.165449Z",
     "start_time": "2021-03-22T01:44:25.454486Z"
    }
   },
   "outputs": [],
   "source": [
    "# Load original data\n",
    "df = pd.read_pickle(\"../data/LSWMD.pkl\")\n",
    "\n",
    "# Load wafer maps with labels\n",
    "df = df.drop(['waferIndex', 'trianTestLabel', 'lotName'], axis=1)\n",
    "df['failureNum']=df.failureType\n",
    "mapping_type={'Center':0,'Donut':1,'Edge-Loc':2,'Edge-Ring':3,'Loc':4,'Random':5,'Scratch':6,'Near-full':7,'none':8}\n",
    "df=df.replace({'failureNum':mapping_type})\n",
    "df_withlabel = df[(df['failureNum']>=0)]\n",
    "\n",
    "\n",
    "# Remove abnormal wafer maps with less than 100 dies\n",
    "df_withlabel = df_withlabel.drop(df_withlabel[df_withlabel['dieSize']<100].index.tolist()).reset_index()\n",
    "\n",
    "# Binarize and resize wafer maps\n",
    "X = df_withlabel.waferMap\n",
    "X_binary = [np.where(x<=1,0,1) for x in X]\n",
    "X_resize = np.array([resize(x,(DIM,DIM), preserve_range=True, anti_aliasing=False) for x in X_binary])\n",
    "X_resize = X_resize.reshape(-1,DIM,DIM,1).astype(np.float16)\n",
    "y = np.array(df_withlabel['failureNum']).astype(np.int)"
   ]
  },
  {
   "cell_type": "code",
   "execution_count": 8,
   "metadata": {
    "ExecuteTime": {
     "end_time": "2021-03-22T02:00:01.678138Z",
     "start_time": "2021-03-22T01:59:53.077770Z"
    }
   },
   "outputs": [],
   "source": [
    "# Save preprocessed data as pickle files\n",
    "with open('../data/X_'+str(DIM)+'.pickle', 'wb') as f:\n",
    "    pickle.dump(X_resize, f, protocol=4)\n",
    "with open('../data/y.pickle', 'wb') as f:\n",
    "    pickle.dump(y, f, protocol=4)"
   ]
  }
 ],
 "metadata": {
  "kernelspec": {
   "display_name": "Python 3",
   "language": "python",
   "name": "python3"
  },
  "language_info": {
   "codemirror_mode": {
    "name": "ipython",
    "version": 3
   },
   "file_extension": ".py",
   "mimetype": "text/x-python",
   "name": "python",
   "nbconvert_exporter": "python",
   "pygments_lexer": "ipython3",
   "version": "3.7.5"
  },
  "toc": {
   "base_numbering": 1,
   "nav_menu": {},
   "number_sections": true,
   "sideBar": true,
   "skip_h1_title": false,
   "title_cell": "Table of Contents",
   "title_sidebar": "Contents",
   "toc_cell": false,
   "toc_position": {},
   "toc_section_display": true,
   "toc_window_display": false
  },
  "varInspector": {
   "cols": {
    "lenName": 16,
    "lenType": 16,
    "lenVar": 40
   },
   "kernels_config": {
    "python": {
     "delete_cmd_postfix": "",
     "delete_cmd_prefix": "del ",
     "library": "var_list.py",
     "varRefreshCmd": "print(var_dic_list())"
    },
    "r": {
     "delete_cmd_postfix": ") ",
     "delete_cmd_prefix": "rm(",
     "library": "var_list.r",
     "varRefreshCmd": "cat(var_dic_list()) "
    }
   },
   "types_to_exclude": [
    "module",
    "function",
    "builtin_function_or_method",
    "instance",
    "_Feature"
   ],
   "window_display": false
  }
 },
 "nbformat": 4,
 "nbformat_minor": 2
}
